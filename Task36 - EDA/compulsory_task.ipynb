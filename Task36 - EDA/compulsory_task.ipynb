{
 "cells": [
  {
   "cell_type": "code",
   "execution_count": 12,
   "id": "92437bc4",
   "metadata": {},
   "outputs": [],
   "source": [
    "import numpy as np \n",
    "import pandas as pd\n",
    "import seaborn as sns\n",
    "import matplotlib.pyplot as plt"
   ]
  },
  {
   "cell_type": "markdown",
   "id": "d7208835",
   "metadata": {},
   "source": [
    "# Loading Data and Initial Exploration to Understand Data"
   ]
  },
  {
   "cell_type": "code",
   "execution_count": 14,
   "id": "f3310240",
   "metadata": {},
   "outputs": [
    {
     "data": {
      "text/html": [
       "<div>\n",
       "<style scoped>\n",
       "    .dataframe tbody tr th:only-of-type {\n",
       "        vertical-align: middle;\n",
       "    }\n",
       "\n",
       "    .dataframe tbody tr th {\n",
       "        vertical-align: top;\n",
       "    }\n",
       "\n",
       "    .dataframe thead th {\n",
       "        text-align: right;\n",
       "    }\n",
       "</style>\n",
       "<table border=\"1\" class=\"dataframe\">\n",
       "  <thead>\n",
       "    <tr style=\"text-align: right;\">\n",
       "      <th></th>\n",
       "      <th>Unnamed: 0</th>\n",
       "      <th>country</th>\n",
       "      <th>description</th>\n",
       "      <th>designation</th>\n",
       "      <th>points</th>\n",
       "      <th>price</th>\n",
       "      <th>province</th>\n",
       "      <th>region_1</th>\n",
       "      <th>region_2</th>\n",
       "      <th>variety</th>\n",
       "      <th>winery</th>\n",
       "    </tr>\n",
       "  </thead>\n",
       "  <tbody>\n",
       "    <tr>\n",
       "      <th>0</th>\n",
       "      <td>0</td>\n",
       "      <td>US</td>\n",
       "      <td>This tremendous 100% varietal wine hails from ...</td>\n",
       "      <td>Martha's Vineyard</td>\n",
       "      <td>96</td>\n",
       "      <td>235.0</td>\n",
       "      <td>California</td>\n",
       "      <td>Napa Valley</td>\n",
       "      <td>Napa</td>\n",
       "      <td>Cabernet Sauvignon</td>\n",
       "      <td>Heitz</td>\n",
       "    </tr>\n",
       "    <tr>\n",
       "      <th>1</th>\n",
       "      <td>1</td>\n",
       "      <td>Spain</td>\n",
       "      <td>Ripe aromas of fig, blackberry and cassis are ...</td>\n",
       "      <td>Carodorum Selecci√≥n Especial Reserva</td>\n",
       "      <td>96</td>\n",
       "      <td>110.0</td>\n",
       "      <td>Northern Spain</td>\n",
       "      <td>Toro</td>\n",
       "      <td>NaN</td>\n",
       "      <td>Tinta de Toro</td>\n",
       "      <td>Bodega Carmen Rodr√≠guez</td>\n",
       "    </tr>\n",
       "    <tr>\n",
       "      <th>2</th>\n",
       "      <td>2</td>\n",
       "      <td>US</td>\n",
       "      <td>Mac Watson honors the memory of a wine once ma...</td>\n",
       "      <td>Special Selected Late Harvest</td>\n",
       "      <td>96</td>\n",
       "      <td>90.0</td>\n",
       "      <td>California</td>\n",
       "      <td>Knights Valley</td>\n",
       "      <td>Sonoma</td>\n",
       "      <td>Sauvignon Blanc</td>\n",
       "      <td>Macauley</td>\n",
       "    </tr>\n",
       "    <tr>\n",
       "      <th>3</th>\n",
       "      <td>3</td>\n",
       "      <td>US</td>\n",
       "      <td>This spent 20 months in 30% new French oak, an...</td>\n",
       "      <td>Reserve</td>\n",
       "      <td>96</td>\n",
       "      <td>65.0</td>\n",
       "      <td>Oregon</td>\n",
       "      <td>Willamette Valley</td>\n",
       "      <td>Willamette Valley</td>\n",
       "      <td>Pinot Noir</td>\n",
       "      <td>Ponzi</td>\n",
       "    </tr>\n",
       "    <tr>\n",
       "      <th>4</th>\n",
       "      <td>4</td>\n",
       "      <td>France</td>\n",
       "      <td>This is the top wine from La B√©gude, named af...</td>\n",
       "      <td>La Br√ªlade</td>\n",
       "      <td>95</td>\n",
       "      <td>66.0</td>\n",
       "      <td>Provence</td>\n",
       "      <td>Bandol</td>\n",
       "      <td>NaN</td>\n",
       "      <td>Provence red blend</td>\n",
       "      <td>Domaine de la B√©gude</td>\n",
       "    </tr>\n",
       "  </tbody>\n",
       "</table>\n",
       "</div>"
      ],
      "text/plain": [
       "   Unnamed: 0 country                                        description  \\\n",
       "0           0      US  This tremendous 100% varietal wine hails from ...   \n",
       "1           1   Spain  Ripe aromas of fig, blackberry and cassis are ...   \n",
       "2           2      US  Mac Watson honors the memory of a wine once ma...   \n",
       "3           3      US  This spent 20 months in 30% new French oak, an...   \n",
       "4           4  France  This is the top wine from La B√©gude, named af...   \n",
       "\n",
       "                             designation  points  price        province  \\\n",
       "0                      Martha's Vineyard      96  235.0      California   \n",
       "1  Carodorum Selecci√≥n Especial Reserva      96  110.0  Northern Spain   \n",
       "2          Special Selected Late Harvest      96   90.0      California   \n",
       "3                                Reserve      96   65.0          Oregon   \n",
       "4                            La Br√ªlade      95   66.0        Provence   \n",
       "\n",
       "            region_1           region_2             variety  \\\n",
       "0        Napa Valley               Napa  Cabernet Sauvignon   \n",
       "1               Toro                NaN       Tinta de Toro   \n",
       "2     Knights Valley             Sonoma     Sauvignon Blanc   \n",
       "3  Willamette Valley  Willamette Valley          Pinot Noir   \n",
       "4             Bandol                NaN  Provence red blend   \n",
       "\n",
       "                     winery  \n",
       "0                     Heitz  \n",
       "1  Bodega Carmen Rodr√≠guez  \n",
       "2                  Macauley  \n",
       "3                     Ponzi  \n",
       "4     Domaine de la B√©gude  "
      ]
     },
     "execution_count": 14,
     "metadata": {},
     "output_type": "execute_result"
    }
   ],
   "source": [
    "df = pd.read_csv('wine.csv')\n",
    "df.head()"
   ]
  },
  {
   "cell_type": "code",
   "execution_count": 15,
   "id": "e848a491",
   "metadata": {},
   "outputs": [
    {
     "data": {
      "text/plain": [
       "(1103, 11)"
      ]
     },
     "execution_count": 15,
     "metadata": {},
     "output_type": "execute_result"
    }
   ],
   "source": [
    "# shape of the data\n",
    "\n",
    "df.shape"
   ]
  },
  {
   "cell_type": "markdown",
   "id": "eb4bfd79",
   "metadata": {},
   "source": [
    "The shape of the data is (1103,11), which shows there are 1103 rows and 11 columns in the data.\n",
    "To know the columns of the data, we can do df.columns, it will give all the features name present in the data."
   ]
  },
  {
   "cell_type": "code",
   "execution_count": 16,
   "id": "16471ef2",
   "metadata": {},
   "outputs": [
    {
     "data": {
      "text/plain": [
       "Index(['Unnamed: 0', 'country', 'description', 'designation', 'points',\n",
       "       'price', 'province', 'region_1', 'region_2', 'variety', 'winery'],\n",
       "      dtype='object')"
      ]
     },
     "execution_count": 16,
     "metadata": {},
     "output_type": "execute_result"
    }
   ],
   "source": [
    "# features in data\n",
    "\n",
    "df.columns"
   ]
  },
  {
   "cell_type": "markdown",
   "id": "3147d996",
   "metadata": {},
   "source": [
    "# Overview dataset\n",
    "\n",
    "To understand our dataset in general, I can use Pandas’ info() method"
   ]
  },
  {
   "cell_type": "code",
   "execution_count": 17,
   "id": "eb86fa06",
   "metadata": {},
   "outputs": [
    {
     "name": "stdout",
     "output_type": "stream",
     "text": [
      "<class 'pandas.core.frame.DataFrame'>\n",
      "RangeIndex: 1103 entries, 0 to 1102\n",
      "Data columns (total 11 columns):\n",
      " #   Column       Non-Null Count  Dtype  \n",
      "---  ------       --------------  -----  \n",
      " 0   Unnamed: 0   1103 non-null   int64  \n",
      " 1   country      1103 non-null   object \n",
      " 2   description  1103 non-null   object \n",
      " 3   designation  834 non-null    object \n",
      " 4   points       1103 non-null   int64  \n",
      " 5   price        1046 non-null   float64\n",
      " 6   province     1103 non-null   object \n",
      " 7   region_1     930 non-null    object \n",
      " 8   region_2     492 non-null    object \n",
      " 9   variety      1103 non-null   object \n",
      " 10  winery       1103 non-null   object \n",
      "dtypes: float64(1), int64(2), object(8)\n",
      "memory usage: 94.9+ KB\n"
     ]
    }
   ],
   "source": [
    "df.info()"
   ]
  },
  {
   "cell_type": "markdown",
   "id": "ebf6ae9d",
   "metadata": {},
   "source": [
    "In the dataset/DataFrame we know:\n",
    "\n",
    "Rows/Entries: 1103\n",
    "Columns: 11\n",
    "Type of columns: object mostly, points column is int64 and price column is float64"
   ]
  },
  {
   "cell_type": "markdown",
   "id": "efa64d91",
   "metadata": {},
   "source": [
    "# Let's check if there is any missing value in the data."
   ]
  },
  {
   "cell_type": "markdown",
   "id": "0e9c66a4",
   "metadata": {},
   "source": [
    "Dataset might contain data that is negligible to us. My purpose of Wine Review is to train machine to understand the taste of each wine, later machine learning model can predict wine titles that related to new description. description data is quite significant to our machine learning and title, variety(type of grape) are relatively import to use as well. Reset of data we can just ignore.\n",
    "\n",
    "Later I am going to do EDA(Exploratory Data Analysis), therefore, some of data I need to keep for good use.\n",
    "\n",
    "I decide to drop columns:\n",
    "\n",
    "- designation\n",
    "- region_1\n",
    "- region_2\n",
    "- Unnamed\n",
    "\n",
    "Define a function to drop unwanted column"
   ]
  },
  {
   "cell_type": "code",
   "execution_count": 18,
   "id": "8e2a527b",
   "metadata": {},
   "outputs": [
    {
     "data": {
      "text/html": [
       "<div>\n",
       "<style scoped>\n",
       "    .dataframe tbody tr th:only-of-type {\n",
       "        vertical-align: middle;\n",
       "    }\n",
       "\n",
       "    .dataframe tbody tr th {\n",
       "        vertical-align: top;\n",
       "    }\n",
       "\n",
       "    .dataframe thead th {\n",
       "        text-align: right;\n",
       "    }\n",
       "</style>\n",
       "<table border=\"1\" class=\"dataframe\">\n",
       "  <thead>\n",
       "    <tr style=\"text-align: right;\">\n",
       "      <th></th>\n",
       "      <th>country</th>\n",
       "      <th>description</th>\n",
       "      <th>points</th>\n",
       "      <th>price</th>\n",
       "      <th>province</th>\n",
       "      <th>variety</th>\n",
       "      <th>winery</th>\n",
       "    </tr>\n",
       "  </thead>\n",
       "  <tbody>\n",
       "    <tr>\n",
       "      <th>0</th>\n",
       "      <td>US</td>\n",
       "      <td>This tremendous 100% varietal wine hails from ...</td>\n",
       "      <td>96</td>\n",
       "      <td>235.0</td>\n",
       "      <td>California</td>\n",
       "      <td>Cabernet Sauvignon</td>\n",
       "      <td>Heitz</td>\n",
       "    </tr>\n",
       "    <tr>\n",
       "      <th>1</th>\n",
       "      <td>Spain</td>\n",
       "      <td>Ripe aromas of fig, blackberry and cassis are ...</td>\n",
       "      <td>96</td>\n",
       "      <td>110.0</td>\n",
       "      <td>Northern Spain</td>\n",
       "      <td>Tinta de Toro</td>\n",
       "      <td>Bodega Carmen Rodr√≠guez</td>\n",
       "    </tr>\n",
       "    <tr>\n",
       "      <th>2</th>\n",
       "      <td>US</td>\n",
       "      <td>Mac Watson honors the memory of a wine once ma...</td>\n",
       "      <td>96</td>\n",
       "      <td>90.0</td>\n",
       "      <td>California</td>\n",
       "      <td>Sauvignon Blanc</td>\n",
       "      <td>Macauley</td>\n",
       "    </tr>\n",
       "    <tr>\n",
       "      <th>3</th>\n",
       "      <td>US</td>\n",
       "      <td>This spent 20 months in 30% new French oak, an...</td>\n",
       "      <td>96</td>\n",
       "      <td>65.0</td>\n",
       "      <td>Oregon</td>\n",
       "      <td>Pinot Noir</td>\n",
       "      <td>Ponzi</td>\n",
       "    </tr>\n",
       "    <tr>\n",
       "      <th>4</th>\n",
       "      <td>France</td>\n",
       "      <td>This is the top wine from La B√©gude, named af...</td>\n",
       "      <td>95</td>\n",
       "      <td>66.0</td>\n",
       "      <td>Provence</td>\n",
       "      <td>Provence red blend</td>\n",
       "      <td>Domaine de la B√©gude</td>\n",
       "    </tr>\n",
       "  </tbody>\n",
       "</table>\n",
       "</div>"
      ],
      "text/plain": [
       "  country                                        description  points  price  \\\n",
       "0      US  This tremendous 100% varietal wine hails from ...      96  235.0   \n",
       "1   Spain  Ripe aromas of fig, blackberry and cassis are ...      96  110.0   \n",
       "2      US  Mac Watson honors the memory of a wine once ma...      96   90.0   \n",
       "3      US  This spent 20 months in 30% new French oak, an...      96   65.0   \n",
       "4  France  This is the top wine from La B√©gude, named af...      95   66.0   \n",
       "\n",
       "         province             variety                    winery  \n",
       "0      California  Cabernet Sauvignon                     Heitz  \n",
       "1  Northern Spain       Tinta de Toro  Bodega Carmen Rodr√≠guez  \n",
       "2      California     Sauvignon Blanc                  Macauley  \n",
       "3          Oregon          Pinot Noir                     Ponzi  \n",
       "4        Provence  Provence red blend     Domaine de la B√©gude  "
      ]
     },
     "execution_count": 18,
     "metadata": {},
     "output_type": "execute_result"
    }
   ],
   "source": [
    "def drop_unwanted_column(df):\n",
    "  transformed_df = df.drop(['designation', 'region_1', 'region_2', 'Unnamed: 0'], axis=1)\n",
    "  return transformed_df\n",
    "\n",
    "df = drop_unwanted_column(df)\n",
    "df.head()"
   ]
  },
  {
   "cell_type": "markdown",
   "id": "8d0cd3dc",
   "metadata": {},
   "source": [
    "The describe () function in Python summarizes statistics. This function returns the count, mean, standard deviation, minimum and maximum values, and the quantiles of the data."
   ]
  },
  {
   "cell_type": "code",
   "execution_count": 19,
   "id": "575eee86",
   "metadata": {},
   "outputs": [
    {
     "data": {
      "text/html": [
       "<div>\n",
       "<style scoped>\n",
       "    .dataframe tbody tr th:only-of-type {\n",
       "        vertical-align: middle;\n",
       "    }\n",
       "\n",
       "    .dataframe tbody tr th {\n",
       "        vertical-align: top;\n",
       "    }\n",
       "\n",
       "    .dataframe thead th {\n",
       "        text-align: right;\n",
       "    }\n",
       "</style>\n",
       "<table border=\"1\" class=\"dataframe\">\n",
       "  <thead>\n",
       "    <tr style=\"text-align: right;\">\n",
       "      <th></th>\n",
       "      <th>points</th>\n",
       "      <th>price</th>\n",
       "    </tr>\n",
       "  </thead>\n",
       "  <tbody>\n",
       "    <tr>\n",
       "      <th>count</th>\n",
       "      <td>1103.000000</td>\n",
       "      <td>1046.000000</td>\n",
       "    </tr>\n",
       "    <tr>\n",
       "      <th>mean</th>\n",
       "      <td>89.701723</td>\n",
       "      <td>40.242830</td>\n",
       "    </tr>\n",
       "    <tr>\n",
       "      <th>std</th>\n",
       "      <td>2.390405</td>\n",
       "      <td>32.588141</td>\n",
       "    </tr>\n",
       "    <tr>\n",
       "      <th>min</th>\n",
       "      <td>85.000000</td>\n",
       "      <td>7.000000</td>\n",
       "    </tr>\n",
       "    <tr>\n",
       "      <th>25%</th>\n",
       "      <td>88.000000</td>\n",
       "      <td>20.000000</td>\n",
       "    </tr>\n",
       "    <tr>\n",
       "      <th>50%</th>\n",
       "      <td>90.000000</td>\n",
       "      <td>31.000000</td>\n",
       "    </tr>\n",
       "    <tr>\n",
       "      <th>75%</th>\n",
       "      <td>91.000000</td>\n",
       "      <td>50.000000</td>\n",
       "    </tr>\n",
       "    <tr>\n",
       "      <th>max</th>\n",
       "      <td>96.000000</td>\n",
       "      <td>500.000000</td>\n",
       "    </tr>\n",
       "  </tbody>\n",
       "</table>\n",
       "</div>"
      ],
      "text/plain": [
       "            points        price\n",
       "count  1103.000000  1046.000000\n",
       "mean     89.701723    40.242830\n",
       "std       2.390405    32.588141\n",
       "min      85.000000     7.000000\n",
       "25%      88.000000    20.000000\n",
       "50%      90.000000    31.000000\n",
       "75%      91.000000    50.000000\n",
       "max      96.000000   500.000000"
      ]
     },
     "execution_count": 19,
     "metadata": {},
     "output_type": "execute_result"
    }
   ],
   "source": [
    "df.describe()"
   ]
  },
  {
   "cell_type": "markdown",
   "id": "0f67b51a",
   "metadata": {},
   "source": [
    "# Inspecting missing values\n",
    "\n",
    "Dataset is not always perfect and ready to be used. Now I am going to see if there are any missing values, then later I can decide to fill missing one with value or drop the rows."
   ]
  },
  {
   "cell_type": "code",
   "execution_count": 20,
   "id": "d6f03e63",
   "metadata": {},
   "outputs": [
    {
     "data": {
      "text/plain": [
       "country         0\n",
       "description     0\n",
       "points          0\n",
       "price          57\n",
       "province        0\n",
       "variety         0\n",
       "winery          0\n",
       "dtype: int64"
      ]
     },
     "execution_count": 20,
     "metadata": {},
     "output_type": "execute_result"
    }
   ],
   "source": [
    "df.isnull().sum()"
   ]
  },
  {
   "cell_type": "markdown",
   "id": "c5bc4b73",
   "metadata": {},
   "source": [
    "I decided to fill the missing value for the price column:\n",
    "    \n",
    "# Fill missing value\n",
    "To fill missing value I have 2 options\n",
    "- Pandas\n",
    "- Imputer from Scikit-Learn\n",
    "\n",
    "I choose Scikit-Learn eventually.\n",
    "\n",
    "# Pandas\n",
    "Define a function for filling missing data"
   ]
  },
  {
   "cell_type": "code",
   "execution_count": 23,
   "id": "eb3f55a1",
   "metadata": {},
   "outputs": [],
   "source": [
    "def fill_missing_data_pandas(df):\n",
    "\n",
    "# Clean data and fill missing values with Pandas\n",
    "\n",
    "  print('Before cleaning:')\n",
    "  print(df.isna().sum())\n",
    "  print('\\n')\n",
    "  \n",
    "  price_mean = df['price'].mean()\n",
    "  df.fillna({'price':price_mean}, inplace=True)\n",
    "  df.fillna({'country': 'Missing', 'province': 'Missing', 'variety': 'Missing'}, inplace=True)\n",
    "  \n",
    "  # Round price\n",
    "  df['price'] = df['price'].apply(lambda x:round(x,0))\n",
    "  \n",
    "  # Turn points into integer\n",
    "  df['points'] = df['points'].astype(int)\n",
    "  \n",
    "  print('After cleaning:')\n",
    "  print(df.isna().sum())\n",
    "  print('\\n')\n",
    "  \n",
    "  return df"
   ]
  },
  {
   "cell_type": "markdown",
   "id": "9ef94d42",
   "metadata": {},
   "source": [
    "Pandas fillna() enable me to fill all missing value in the rows under certain column. fillna\n",
    "\n",
    "I gave key/value pair dictionary to fillna.\n",
    "\n",
    "- Key: the column where underlying rows have missing value\n",
    "- Value: the value I want to fill for those missing value\n",
    "\n",
    "For price I fill missing value with mean() (Add all price together and divide number of rows)"
   ]
  },
  {
   "cell_type": "markdown",
   "id": "ddb998a9",
   "metadata": {},
   "source": [
    "For the rest of columns they are text base so I fill Missing as value\n",
    "\n",
    "At the end I make sure that price and point columns are both float and integer type."
   ]
  },
  {
   "cell_type": "code",
   "execution_count": 21,
   "id": "83f1bfb7",
   "metadata": {},
   "outputs": [
    {
     "data": {
      "text/plain": [
       "0       235.0\n",
       "1       110.0\n",
       "2        90.0\n",
       "3        65.0\n",
       "4        66.0\n",
       "        ...  \n",
       "1098     12.0\n",
       "1099     20.0\n",
       "1100     28.0\n",
       "1101     27.0\n",
       "1102     22.0\n",
       "Name: price, Length: 1103, dtype: float64"
      ]
     },
     "execution_count": 21,
     "metadata": {},
     "output_type": "execute_result"
    }
   ],
   "source": [
    "df['price'].apply(lambda x:round(x,0))"
   ]
  },
  {
   "cell_type": "markdown",
   "id": "2d086f0f",
   "metadata": {},
   "source": [
    "I use Pandas Series’ apply() method apply which allow me to loop through each value in rows under price column. I then provide a lambda function to round each value to integer."
   ]
  },
  {
   "cell_type": "markdown",
   "id": "66acc23e",
   "metadata": {},
   "source": [
    "# Scikit-Learn\n",
    "Define function for filling missing data"
   ]
  },
  {
   "cell_type": "code",
   "execution_count": null,
   "id": "72c472a0",
   "metadata": {},
   "outputs": [],
   "source": [
    "from sklearn.impute import SimpleImputer\n",
    "from sklearn.compose import ColumnTransformer\n",
    "\n",
    "def fill_missing_data_sklearn(df):\n",
    " \n",
    "  print('Before cleaning:')\n",
    "  print(df.isna().sum())\n",
    "  print('\\n')\n",
    "  \n",
    "  # Create imputers for categorical column and numerical column\n",
    "  cat_imputer = SimpleImputer(strategy='constant', fill_value='Missing')\n",
    "  num_imputer = SimpleImputer(strategy='mean')\n",
    "  \n",
    "  # Create ColumnTransformer\n",
    "  ct = ColumnTransformer([\n",
    "    ('country_imputer', cat_imputer, ['country']),\n",
    "    ('description_imputer', cat_imputer, ['description']),\n",
    "    ('points_imputer', num_imputer, ['points']),\n",
    "    ('price_imputer', num_imputer, ['price']),\n",
    "    ('province_imputer', cat_imputer, ['province']),\n",
    "    ('variety_imputer', cat_imputer, ['variety']),\n",
    "    ('winery_imputer', cat_imputer, ['winery'])\n",
    "  ], remainder='passthrough')\n",
    "  \n",
    "  # Transform columns\n",
    "  transformed = ct.fit_transform(df)\n",
    "  \n",
    "  # Re-construct DataFrame\n",
    "  df = pd.DataFrame(transformed, columns=df.columns)\n",
    "  \n",
    "  # Round price\n",
    "  df['price'] = df['price'].apply(lambda x:round(x,0))\n",
    "  \n",
    "  # Turn points into integer\n",
    "  df['points'] = df['points'].astype(int)\n",
    "  \n",
    "  print('After cleaning:')\n",
    "  print(df.isna().sum())\n",
    "  print('\\n')\n",
    "  \n",
    "  return df\n"
   ]
  },
  {
   "cell_type": "markdown",
   "id": "60014c13",
   "metadata": {},
   "source": [
    "SimpleImputer an object for imputation\n",
    "\n",
    "Imputation: In statistics, imputation is the process of replacing missing data with substituted values\n",
    "\n",
    "Parameter strategy I use constant for columns with text and mean for column with number such as price\n",
    "\n",
    "ColumnTransformer transform column with transformer\n",
    "\n",
    "ColumnTransformer: Applies transformers to columns of an array or pandas DataFrame\n",
    "\n",
    "For each columns I define imputer for them. Order is important. ColumnTransformer take a list of tuple(Transformer/Imputer). Tuple which you define (name of imputer, imputer to use , name of columns). I don’t want to mess up the order of columns in original DataFrame, thus, I define imputer for each columns."
   ]
  },
  {
   "cell_type": "markdown",
   "id": "6924fd1d",
   "metadata": {},
   "source": [
    "At the end I make sure that price and point columns are both float and integer type.\n",
    "\n",
    "I use Pandas Series’ apply() method apply which allow me to loop through each value in rows under price column. I then provide a lambda function to round each value to integer."
   ]
  },
  {
   "cell_type": "code",
   "execution_count": 31,
   "id": "30504bc0",
   "metadata": {},
   "outputs": [
    {
     "name": "stdout",
     "output_type": "stream",
     "text": [
      "Before cleaning:\n",
      "country         0\n",
      "description     0\n",
      "points          0\n",
      "price          57\n",
      "province        0\n",
      "variety         0\n",
      "winery          0\n",
      "dtype: int64\n",
      "\n",
      "\n",
      "After cleaning:\n",
      "country        0\n",
      "description    0\n",
      "points         0\n",
      "price          0\n",
      "province       0\n",
      "variety        0\n",
      "winery         0\n",
      "dtype: int64\n",
      "\n",
      "\n"
     ]
    },
    {
     "data": {
      "text/html": [
       "<div>\n",
       "<style scoped>\n",
       "    .dataframe tbody tr th:only-of-type {\n",
       "        vertical-align: middle;\n",
       "    }\n",
       "\n",
       "    .dataframe tbody tr th {\n",
       "        vertical-align: top;\n",
       "    }\n",
       "\n",
       "    .dataframe thead th {\n",
       "        text-align: right;\n",
       "    }\n",
       "</style>\n",
       "<table border=\"1\" class=\"dataframe\">\n",
       "  <thead>\n",
       "    <tr style=\"text-align: right;\">\n",
       "      <th></th>\n",
       "      <th>country</th>\n",
       "      <th>description</th>\n",
       "      <th>points</th>\n",
       "      <th>price</th>\n",
       "      <th>province</th>\n",
       "      <th>variety</th>\n",
       "      <th>winery</th>\n",
       "    </tr>\n",
       "  </thead>\n",
       "  <tbody>\n",
       "    <tr>\n",
       "      <th>0</th>\n",
       "      <td>US</td>\n",
       "      <td>This tremendous 100% varietal wine hails from ...</td>\n",
       "      <td>96</td>\n",
       "      <td>235.0</td>\n",
       "      <td>California</td>\n",
       "      <td>Cabernet Sauvignon</td>\n",
       "      <td>Heitz</td>\n",
       "    </tr>\n",
       "    <tr>\n",
       "      <th>1</th>\n",
       "      <td>Spain</td>\n",
       "      <td>Ripe aromas of fig, blackberry and cassis are ...</td>\n",
       "      <td>96</td>\n",
       "      <td>110.0</td>\n",
       "      <td>Northern Spain</td>\n",
       "      <td>Tinta de Toro</td>\n",
       "      <td>Bodega Carmen Rodr√≠guez</td>\n",
       "    </tr>\n",
       "    <tr>\n",
       "      <th>2</th>\n",
       "      <td>US</td>\n",
       "      <td>Mac Watson honors the memory of a wine once ma...</td>\n",
       "      <td>96</td>\n",
       "      <td>90.0</td>\n",
       "      <td>California</td>\n",
       "      <td>Sauvignon Blanc</td>\n",
       "      <td>Macauley</td>\n",
       "    </tr>\n",
       "    <tr>\n",
       "      <th>3</th>\n",
       "      <td>US</td>\n",
       "      <td>This spent 20 months in 30% new French oak, an...</td>\n",
       "      <td>96</td>\n",
       "      <td>65.0</td>\n",
       "      <td>Oregon</td>\n",
       "      <td>Pinot Noir</td>\n",
       "      <td>Ponzi</td>\n",
       "    </tr>\n",
       "    <tr>\n",
       "      <th>4</th>\n",
       "      <td>France</td>\n",
       "      <td>This is the top wine from La B√©gude, named af...</td>\n",
       "      <td>95</td>\n",
       "      <td>66.0</td>\n",
       "      <td>Provence</td>\n",
       "      <td>Provence red blend</td>\n",
       "      <td>Domaine de la B√©gude</td>\n",
       "    </tr>\n",
       "  </tbody>\n",
       "</table>\n",
       "</div>"
      ],
      "text/plain": [
       "  country                                        description  points  price  \\\n",
       "0      US  This tremendous 100% varietal wine hails from ...      96  235.0   \n",
       "1   Spain  Ripe aromas of fig, blackberry and cassis are ...      96  110.0   \n",
       "2      US  Mac Watson honors the memory of a wine once ma...      96   90.0   \n",
       "3      US  This spent 20 months in 30% new French oak, an...      96   65.0   \n",
       "4  France  This is the top wine from La B√©gude, named af...      95   66.0   \n",
       "\n",
       "         province             variety                    winery  \n",
       "0      California  Cabernet Sauvignon                     Heitz  \n",
       "1  Northern Spain       Tinta de Toro  Bodega Carmen Rodr√≠guez  \n",
       "2      California     Sauvignon Blanc                  Macauley  \n",
       "3          Oregon          Pinot Noir                     Ponzi  \n",
       "4        Provence  Provence red blend     Domaine de la B√©gude  "
      ]
     },
     "execution_count": 31,
     "metadata": {},
     "output_type": "execute_result"
    }
   ],
   "source": [
    "df = fill_missing_data_sklearn(df)\n",
    "df.head()"
   ]
  },
  {
   "cell_type": "markdown",
   "id": "c5291ff4",
   "metadata": {},
   "source": [
    "No missing values at all. Yay!!"
   ]
  },
  {
   "cell_type": "markdown",
   "id": "1d62cba3",
   "metadata": {},
   "source": [
    "# Now, let's do around different types of data visualizations."
   ]
  },
  {
   "cell_type": "markdown",
   "id": "69ac1fff",
   "metadata": {},
   "source": [
    "I can use Pandas and Matplotlib to assist me to understand dataset much better.\n",
    "\n",
    "I am now focusing on exploring points and price from dataset.\n",
    "\n",
    "Let's understand the relationship and correlation between points and price. But before understanding relationship let's define points and price:\n",
    "\n",
    "Points: The number of points WineEnthusiast rated the wine on a scale of 1–100\n",
    "Price: The cost for a bottle of the wine.\n",
    "\n",
    "# Relationship between points and price\n",
    "I would like to find out is there any relationship between points and price? For example, the higher the point a wine earn, the higher the price it sell."
   ]
  },
  {
   "cell_type": "code",
   "execution_count": 36,
   "id": "282f67fd",
   "metadata": {},
   "outputs": [
    {
     "data": {
      "image/png": "[encoded data removed]",
      "text/plain": [
       "<Figure size 1000x700 with 1 Axes>"
      ]
     },
     "metadata": {},
     "output_type": "display_data"
    }
   ],
   "source": [
    "# points against average price and group by points\n",
    "points_price = df[['points', 'price']].groupby('points').mean()\n",
    "\n",
    "# min and max of price\n",
    "price_min = points_price['price'].min()\n",
    "price_max = points_price['price'].max()\n",
    "\n",
    "# min and max of points\n",
    "point_min = points_price.index.min()\n",
    "point_max = points_price.index.max()\n",
    "\n",
    "# Plot points against average price\n",
    "fig, ax = plt.subplots(figsize=(10, 7))\n",
    "ax.plot(points_price.index, points_price, 'ro')\n",
    "ax.set_title('Points against average price')\n",
    "ax.set_xlabel('Points')\n",
    "ax.set_ylabel('Average price')\n",
    "ax.set_xticks(np.arange(point_min, point_max+1, 1))\n",
    "ax.set_yticks(np.arange(price_min, price_max+1, 200.0))\n",
    "for i, p in enumerate(points_price['price']):\n",
    "  ax.annotate(f'${p:.2f}', (points_price.index[i], p+100), rotation=90)\n",
    "plt.show()"
   ]
  },
  {
   "cell_type": "markdown",
   "id": "1ff2120f",
   "metadata": {},
   "source": [
    "First I only retrieve the data of points and price from entire dataset and group them by points and then find out average price for each points. It look like this in a table form.\n",
    "I create a plot that use points against price.\n",
    "\n",
    "Here I can see a pattern. Pattern that point goes up price goes up. Between points 80 ~ 94, the price goes up gradually, in contrast, price goes up dramatically from 91 ~ 96.\n",
    "\n",
    "This graph also shows that there is a positive correlation between points and price."
   ]
  },
  {
   "cell_type": "markdown",
   "id": "180357de",
   "metadata": {},
   "source": [
    "# points and price in scatter chart\n",
    "I would like to plot point and price in scatter chart"
   ]
  },
  {
   "cell_type": "code",
   "execution_count": 56,
   "id": "fd8d698a",
   "metadata": {},
   "outputs": [
    {
     "data": {
      "image/png": "[encoded data removed]",
      "text/plain": [
       "<Figure size 1500x700 with 1 Axes>"
      ]
     },
     "metadata": {},
     "output_type": "display_data"
    }
   ],
   "source": [
    "# get points and price columns\n",
    "points_and_price = df[['points', 'price']]\n",
    "\n",
    "# mean of points and price\n",
    "points_mean = points_and_price['points'].mean()\n",
    "price_mean = points_and_price['price'].median()\n",
    "\n",
    "# min and max of points\n",
    "points_min = points_and_price['points'].min()\n",
    "points_max = points_and_price['points'].max()\n",
    "\n",
    "# min and max of price\n",
    "price_min = points_and_price['price'].min()\n",
    "price_max = points_and_price['price'].max()\n",
    "\n",
    "# plot scatter chart on points & price\n",
    "fig, ax = plt.subplots(figsize=(15,7))\n",
    "ax.scatter(points_and_price['price'], points_and_price['points'], color='red')\n",
    "ax.set_title('Point and price')\n",
    "ax.set_xlabel('Price')\n",
    "ax.set_ylabel('Point')\n",
    "ax.set_xticks(np.arange(price_min, price_max, 200.0))\n",
    "ax.set_yticks(np.arange(points_min, points_max, 1))\n",
    "points_mean_line = ax.axhline(points_mean, color='green')\n",
    "price_mean_line = ax.axvline(price_mean, color='cyan')\n",
    "ax.legend([points_mean_line, price_mean_line],\n",
    "          ['points-mean', 'price-mean'])\n",
    "fig.savefig(\"points_and_price.png\")\n",
    "plt.show()"
   ]
  },
  {
   "cell_type": "markdown",
   "id": "2f943929",
   "metadata": {},
   "source": [
    "With scatter chart I can see each data points clearly."
   ]
  },
  {
   "cell_type": "markdown",
   "id": "494e462c",
   "metadata": {},
   "source": [
    "# Correlation between points and price\n",
    "\n",
    "I know there is a positive correlation between points and price, but is there a measurement to measure correlation? Correlation coefficient"
   ]
  },
  {
   "cell_type": "code",
   "execution_count": 42,
   "id": "2774b28b",
   "metadata": {},
   "outputs": [
    {
     "data": {
      "text/html": [
       "<div>\n",
       "<style scoped>\n",
       "    .dataframe tbody tr th:only-of-type {\n",
       "        vertical-align: middle;\n",
       "    }\n",
       "\n",
       "    .dataframe tbody tr th {\n",
       "        vertical-align: top;\n",
       "    }\n",
       "\n",
       "    .dataframe thead th {\n",
       "        text-align: right;\n",
       "    }\n",
       "</style>\n",
       "<table border=\"1\" class=\"dataframe\">\n",
       "  <thead>\n",
       "    <tr style=\"text-align: right;\">\n",
       "      <th></th>\n",
       "      <th>points</th>\n",
       "      <th>price</th>\n",
       "    </tr>\n",
       "  </thead>\n",
       "  <tbody>\n",
       "    <tr>\n",
       "      <th>points</th>\n",
       "      <td>1.00000</td>\n",
       "      <td>0.42879</td>\n",
       "    </tr>\n",
       "    <tr>\n",
       "      <th>price</th>\n",
       "      <td>0.42879</td>\n",
       "      <td>1.00000</td>\n",
       "    </tr>\n",
       "  </tbody>\n",
       "</table>\n",
       "</div>"
      ],
      "text/plain": [
       "         points    price\n",
       "points  1.00000  0.42879\n",
       "price   0.42879  1.00000"
      ]
     },
     "execution_count": 42,
     "metadata": {},
     "output_type": "execute_result"
    }
   ],
   "source": [
    "# get points and price columns\n",
    "points_and_price = df[['points', 'price']]\n",
    "\n",
    "# find out correlation matrix between points and price\n",
    "coef_correlation = points_and_price.corr()\n",
    "coef_correlation"
   ]
  },
  {
   "cell_type": "markdown",
   "id": "c6194eb5",
   "metadata": {},
   "source": [
    "From the table points to points has 1 the strongest relationship while points to price has 0.4 between non to medium relationship.\n",
    "\n",
    "Let’s see in heatmap (a matrix form)"
   ]
  },
  {
   "cell_type": "code",
   "execution_count": 43,
   "id": "307e3926",
   "metadata": {},
   "outputs": [
    {
     "data": {
      "image/png": "[encoded data removed]",
      "text/plain": [
       "<Figure size 640x480 with 2 Axes>"
      ]
     },
     "metadata": {},
     "output_type": "display_data"
    }
   ],
   "source": [
    "sns.heatmap(coef_correlation, annot=True, vmin=-1.0, vmax=1.0);\n"
   ]
  },
  {
   "cell_type": "markdown",
   "id": "3674e443",
   "metadata": {},
   "source": [
    "To understand points and price from dataset, I can use pandas and matplotlib, as well as, seaborn to help me. I have seen how points and price data spread and their distribution. In addition, I find out there is a slight positive correlation between points and price."
   ]
  },
  {
   "cell_type": "markdown",
   "id": "84a63994",
   "metadata": {},
   "source": [
    "# Finding out number of wineries in country"
   ]
  },
  {
   "cell_type": "markdown",
   "id": "04cb684e",
   "metadata": {},
   "source": [
    "I would like to see the number of wineries in country.\n",
    "\n",
    "First I need to group data by country and winery."
   ]
  },
  {
   "cell_type": "code",
   "execution_count": 44,
   "id": "51337818",
   "metadata": {},
   "outputs": [
    {
     "data": {
      "text/html": [
       "<div>\n",
       "<style scoped>\n",
       "    .dataframe tbody tr th:only-of-type {\n",
       "        vertical-align: middle;\n",
       "    }\n",
       "\n",
       "    .dataframe tbody tr th {\n",
       "        vertical-align: top;\n",
       "    }\n",
       "\n",
       "    .dataframe thead th {\n",
       "        text-align: right;\n",
       "    }\n",
       "</style>\n",
       "<table border=\"1\" class=\"dataframe\">\n",
       "  <thead>\n",
       "    <tr style=\"text-align: right;\">\n",
       "      <th></th>\n",
       "      <th></th>\n",
       "    </tr>\n",
       "    <tr>\n",
       "      <th>country</th>\n",
       "      <th>winery</th>\n",
       "    </tr>\n",
       "  </thead>\n",
       "  <tbody>\n",
       "    <tr>\n",
       "      <th rowspan=\"5\" valign=\"top\">Argentina</th>\n",
       "      <th>Bodega Las Ca√±itas</th>\n",
       "    </tr>\n",
       "    <tr>\n",
       "      <th>Bodega Renacer</th>\n",
       "    </tr>\n",
       "    <tr>\n",
       "      <th>Bota Box</th>\n",
       "    </tr>\n",
       "    <tr>\n",
       "      <th>Chakana</th>\n",
       "    </tr>\n",
       "    <tr>\n",
       "      <th>Cruzat</th>\n",
       "    </tr>\n",
       "    <tr>\n",
       "      <th>...</th>\n",
       "      <th>...</th>\n",
       "    </tr>\n",
       "    <tr>\n",
       "      <th rowspan=\"5\" valign=\"top\">US</th>\n",
       "      <th>Winery by the Creek</th>\n",
       "    </tr>\n",
       "    <tr>\n",
       "      <th>Woodward Canyon</th>\n",
       "    </tr>\n",
       "    <tr>\n",
       "      <th>W√∂lffer</th>\n",
       "    </tr>\n",
       "    <tr>\n",
       "      <th>YNOT</th>\n",
       "    </tr>\n",
       "    <tr>\n",
       "      <th>Zepaltas</th>\n",
       "    </tr>\n",
       "  </tbody>\n",
       "</table>\n",
       "<p>848 rows × 0 columns</p>\n",
       "</div>"
      ],
      "text/plain": [
       "Empty DataFrame\n",
       "Columns: []\n",
       "Index: [(Argentina, Bodega Las Ca√±itas), (Argentina, Bodega Renacer), (Argentina, Bota Box), (Argentina, Chakana), (Argentina, Cruzat), (Argentina, Domaine Jean Bousquet), (Argentina, Don Miguel Gasc√≥n), (Argentina, Finca Las Moras), (Argentina, Finca la Malena), (Argentina, Lamadrid), (Argentina, Matias Riccitelli), (Argentina, Navarro Correas), (Argentina, Pascual Toso), (Argentina, Piattelli), (Argentina, Proemio), (Argentina, Quara), (Argentina, The Seeker), (Argentina, Trapiche), (Argentina, Tupun), (Argentina, Verum), (Argentina, Via Revolucionaria), (Argentina, Vi√±a Cobos), (Argentina, Vi√±alba), (Argentina, Zorzal), (Australia, D'Arenberg), (Australia, Dalrymple), (Australia, Giant Steps), (Australia, Heggies Vineyard), (Australia, Moorooduc), (Australia, Riposte), (Austria, Johanneshof Reinisch), (Austria, Meinklang), (Austria, Muhr-Van der Niepoort), (Austria, Schwarz Wein), (Bulgaria, Castra Rubra), (Bulgaria, Edoardo Miroglio), (Bulgaria, Villa Melnik), (Bulgaria, Vini), (Canada, Burrowing Owl), (Canada, Cave Spring), (Canada, Mission Hill), (Canada, Tinhorn Creek), (Chile, Caliterra), (Chile, Casa Donoso), (Chile, Claro), (Chile, Concha y Toro), (Chile, Estampa), (Chile, Koyle), (Chile, Maquis), (Chile, Maray), (Chile, Primus), (Chile, Ritual), (Chile, San Pedro), (Chile, Santa Alba), (Chile, Santa Ema), (Chile, Viu Manent), (Chile, Vi√±a Bisquertt), (Chile, Von Siebenthal), (Croatia, Bibich), (France, A.R. Lenoble¬†), (France, Albert Bichot), (France, Au Pied du Mont Chauve), (France, Aubry), (France, Beno√Æt Daridan), (France, Beno√Æt Girard), (France, Boeckel), (France, Bouvet-Ladubay), (France, Chanson P√®re et Fils), (France, Chartron et Tr√©buchet), (France, Chateau Quattre), (France, Cherrier Fr√®res), (France, Ch√¢teau Beauregard Lagupeau), (France, Ch√¢teau Bouissel), (France, Ch√¢teau Bovila), (France, Ch√¢teau B√©lingard), (France, Ch√¢teau Chantemerle), (France, Ch√¢teau Chaubinet), (France, Ch√¢teau Cl√©ment Termes), (France, Ch√¢teau Coutinel), (France, Ch√¢teau Devise d'Ardilley), (France, Ch√¢teau Favray), (France, Ch√¢teau Ferran), (France, Ch√¢teau Fongalan), (France, Ch√¢teau Gassier), (France, Ch√¢teau Gazin Rocquencourt), (France, Ch√¢teau Grand Boise), (France, Ch√¢teau Haut Selve), (France, Ch√¢teau Lafargue), (France, Ch√¢teau Lagr√©zette), (France, Ch√¢teau Lalande Mausse), (France, Ch√¢teau Lalaudey), (France, Ch√¢teau Larrivet Haut-Brion), (France, Ch√¢teau Luchey-Halde), (France, Ch√¢teau Magnol), (France, Ch√¢teau Manc√®dre), (France, Ch√¢teau Marsau), (France, Ch√¢teau Mezain), (France, Ch√¢teau Peugeais), (France, Ch√¢teau Peyfaures), (France, Ch√¢teau P√©gau), ...]\n",
       "\n",
       "[848 rows x 0 columns]"
      ]
     },
     "execution_count": 44,
     "metadata": {},
     "output_type": "execute_result"
    }
   ],
   "source": [
    "# Group by countr and winery\n",
    "country_winery_group = df[['country', 'winery']].groupby(['country', 'winery']).count()\n",
    "\n",
    "# Show first 10 countries\n",
    "country_winery_group"
   ]
  },
  {
   "cell_type": "markdown",
   "id": "9dee63bc",
   "metadata": {},
   "source": [
    "Secondly, I need to transform this DataFrame into a new DataFrame which has information of country name and number of wineries.\n"
   ]
  },
  {
   "cell_type": "code",
   "execution_count": 45,
   "id": "0df11c93",
   "metadata": {},
   "outputs": [
    {
     "data": {
      "text/html": [
       "<div>\n",
       "<style scoped>\n",
       "    .dataframe tbody tr th:only-of-type {\n",
       "        vertical-align: middle;\n",
       "    }\n",
       "\n",
       "    .dataframe tbody tr th {\n",
       "        vertical-align: top;\n",
       "    }\n",
       "\n",
       "    .dataframe thead th {\n",
       "        text-align: right;\n",
       "    }\n",
       "</style>\n",
       "<table border=\"1\" class=\"dataframe\">\n",
       "  <thead>\n",
       "    <tr style=\"text-align: right;\">\n",
       "      <th></th>\n",
       "      <th>country</th>\n",
       "      <th>winery</th>\n",
       "    </tr>\n",
       "  </thead>\n",
       "  <tbody>\n",
       "    <tr>\n",
       "      <th>21</th>\n",
       "      <td>US</td>\n",
       "      <td>372</td>\n",
       "    </tr>\n",
       "    <tr>\n",
       "      <th>12</th>\n",
       "      <td>Italy</td>\n",
       "      <td>142</td>\n",
       "    </tr>\n",
       "    <tr>\n",
       "      <th>7</th>\n",
       "      <td>France</td>\n",
       "      <td>133</td>\n",
       "    </tr>\n",
       "    <tr>\n",
       "      <th>20</th>\n",
       "      <td>Spain</td>\n",
       "      <td>56</td>\n",
       "    </tr>\n",
       "    <tr>\n",
       "      <th>16</th>\n",
       "      <td>Portugal</td>\n",
       "      <td>38</td>\n",
       "    </tr>\n",
       "    <tr>\n",
       "      <th>0</th>\n",
       "      <td>Argentina</td>\n",
       "      <td>24</td>\n",
       "    </tr>\n",
       "    <tr>\n",
       "      <th>8</th>\n",
       "      <td>Germany</td>\n",
       "      <td>21</td>\n",
       "    </tr>\n",
       "    <tr>\n",
       "      <th>5</th>\n",
       "      <td>Chile</td>\n",
       "      <td>16</td>\n",
       "    </tr>\n",
       "    <tr>\n",
       "      <th>19</th>\n",
       "      <td>South Africa</td>\n",
       "      <td>8</td>\n",
       "    </tr>\n",
       "    <tr>\n",
       "      <th>11</th>\n",
       "      <td>Israel</td>\n",
       "      <td>7</td>\n",
       "    </tr>\n",
       "    <tr>\n",
       "      <th>1</th>\n",
       "      <td>Australia</td>\n",
       "      <td>6</td>\n",
       "    </tr>\n",
       "    <tr>\n",
       "      <th>9</th>\n",
       "      <td>Greece</td>\n",
       "      <td>5</td>\n",
       "    </tr>\n",
       "    <tr>\n",
       "      <th>4</th>\n",
       "      <td>Canada</td>\n",
       "      <td>4</td>\n",
       "    </tr>\n",
       "    <tr>\n",
       "      <th>3</th>\n",
       "      <td>Bulgaria</td>\n",
       "      <td>4</td>\n",
       "    </tr>\n",
       "    <tr>\n",
       "      <th>2</th>\n",
       "      <td>Austria</td>\n",
       "      <td>4</td>\n",
       "    </tr>\n",
       "    <tr>\n",
       "      <th>10</th>\n",
       "      <td>Hungary</td>\n",
       "      <td>2</td>\n",
       "    </tr>\n",
       "    <tr>\n",
       "      <th>6</th>\n",
       "      <td>Croatia</td>\n",
       "      <td>1</td>\n",
       "    </tr>\n",
       "    <tr>\n",
       "      <th>13</th>\n",
       "      <td>Moldova</td>\n",
       "      <td>1</td>\n",
       "    </tr>\n",
       "    <tr>\n",
       "      <th>14</th>\n",
       "      <td>Morocco</td>\n",
       "      <td>1</td>\n",
       "    </tr>\n",
       "    <tr>\n",
       "      <th>15</th>\n",
       "      <td>New Zealand</td>\n",
       "      <td>1</td>\n",
       "    </tr>\n",
       "    <tr>\n",
       "      <th>17</th>\n",
       "      <td>Romania</td>\n",
       "      <td>1</td>\n",
       "    </tr>\n",
       "    <tr>\n",
       "      <th>18</th>\n",
       "      <td>Slovenia</td>\n",
       "      <td>1</td>\n",
       "    </tr>\n",
       "  </tbody>\n",
       "</table>\n",
       "</div>"
      ],
      "text/plain": [
       "         country  winery\n",
       "21            US     372\n",
       "12         Italy     142\n",
       "7         France     133\n",
       "20         Spain      56\n",
       "16      Portugal      38\n",
       "0      Argentina      24\n",
       "8        Germany      21\n",
       "5          Chile      16\n",
       "19  South Africa       8\n",
       "11        Israel       7\n",
       "1      Australia       6\n",
       "9         Greece       5\n",
       "4         Canada       4\n",
       "3       Bulgaria       4\n",
       "2        Austria       4\n",
       "10       Hungary       2\n",
       "6        Croatia       1\n",
       "13       Moldova       1\n",
       "14       Morocco       1\n",
       "15   New Zealand       1\n",
       "17       Romania       1\n",
       "18      Slovenia       1"
      ]
     },
     "execution_count": 45,
     "metadata": {},
     "output_type": "execute_result"
    }
   ],
   "source": [
    "# Transform country and winery into dictionary of winery and number \n",
    "winery_num_dict = {}\n",
    "for i in country_winery_group.index:\n",
    "  if i[0] in winery_num_dict:\n",
    "    winery_num_dict[i[0]] += 1\n",
    "  else:\n",
    "    winery_num_dict[i[0]] = 1\n",
    "\n",
    "# Convert to a new DataFrame\n",
    "country_winery = pd.DataFrame({\n",
    "    'country': list(winery_num_dict.keys()),\n",
    "    'winery': list(winery_num_dict.values())\n",
    "})\n",
    "\n",
    "# Sort by winery in descending order\n",
    "country_winery.sort_values(['winery'], ascending=False)"
   ]
  },
  {
   "cell_type": "markdown",
   "id": "97fbf5b1",
   "metadata": {},
   "source": [
    "Looks like US have more wineries than other countries."
   ]
  },
  {
   "cell_type": "markdown",
   "id": "f22f0407",
   "metadata": {},
   "source": [
    "# Top 10 countries by their average points\n",
    "\n",
    "Let's find out top 10 countries by their average points"
   ]
  },
  {
   "cell_type": "code",
   "execution_count": 57,
   "id": "7c910c19",
   "metadata": {},
   "outputs": [
    {
     "data": {
      "image/png": "[encoded data removed]",
      "text/plain": [
       "<Figure size 1500x700 with 1 Axes>"
      ]
     },
     "metadata": {},
     "output_type": "display_data"
    }
   ],
   "source": [
    "# Group by country and calcuate mean of points for each countries\n",
    "country_points_mean = df[['country', 'points']].groupby('country').mean()\n",
    "\n",
    "# Sort by points in descending order\n",
    "country_sorted_by_points = country_points_mean.sort_values('points', ascending=False)\n",
    "\n",
    "# Get first 10 countries\n",
    "top_10_countries = country_sorted_by_points[:10]\n",
    "\n",
    "# Plot\n",
    "fig, ax = plt.subplots(figsize=(15, 7))\n",
    "ax.bar(top_10_countries.index, top_10_countries['points'].values)\n",
    "ax.set_title('Top 10 countries')\n",
    "ax.set_xlabel('country name')\n",
    "ax.set_ylabel('Average points')\n",
    "ax.set_ylim(top_10_countries['points'].values.min(),\n",
    "            top_10_countries['points'].values.max()+1)\n",
    "ax.set_yticks(np.arange(top_10_countries['points'].values.min()-1,\n",
    "                        top_10_countries['points'].values.max()+1,\n",
    "                        1))\n",
    "fig.savefig(\"top10_countries_averagepoints.png\")\n",
    "plt.show()"
   ]
  },
  {
   "cell_type": "markdown",
   "id": "25aef6d2",
   "metadata": {},
   "source": [
    "It looks like New Zealand had earn the most points in average follow by Austria and Morocco."
   ]
  },
  {
   "cell_type": "markdown",
   "id": "3d784e57",
   "metadata": {},
   "source": [
    "# Top 10 variety that had been used to produce wine\n",
    "\n",
    "Similar to top 10 countries, I can explore top 10 variety."
   ]
  },
  {
   "cell_type": "code",
   "execution_count": 48,
   "id": "e3437467",
   "metadata": {},
   "outputs": [
    {
     "data": {
      "text/plain": [
       "Pinot Noir                  128\n",
       "Chardonnay                  103\n",
       "Cabernet Sauvignon           89\n",
       "Red Blend                    70\n",
       "Nebbiolo                     54\n",
       "Riesling                     51\n",
       "Bordeaux-style Red Blend     48\n",
       "Portuguese Red               42\n",
       "Sauvignon Blanc              36\n",
       "Syrah                        35\n",
       "Name: variety, dtype: int64"
      ]
     },
     "execution_count": 48,
     "metadata": {},
     "output_type": "execute_result"
    }
   ],
   "source": [
    "top_10_variety = df['variety'].value_counts()[:10]\n",
    "top_10_variety"
   ]
  },
  {
   "cell_type": "markdown",
   "id": "fab02746",
   "metadata": {},
   "source": [
    "Presenting data visually with histogram."
   ]
  },
  {
   "cell_type": "code",
   "execution_count": 58,
   "id": "e8c22386",
   "metadata": {},
   "outputs": [
    {
     "data": {
      "image/png": "[encoded data removed]",
      "text/plain": [
       "<Figure size 1500x700 with 1 Axes>"
      ]
     },
     "metadata": {},
     "output_type": "display_data"
    }
   ],
   "source": [
    "fig, ax = plt.subplots(figsize=(15, 7))\n",
    "\n",
    "ax.bar(top_10_variety.index, top_10_variety.values)\n",
    "ax.set_title('Top 10 popular Variety')\n",
    "ax.set_xlabel('Variety name',)\n",
    "ax.set_ylabel('Frequency')\n",
    "ax.set_ylim(top_10_variety.values.min()-1000,\n",
    "            top_10_variety.values.max()+2000)\n",
    "ax.set_yticks(np.arange(top_10_variety.values.min()-1000,\n",
    "                        top_10_variety.values.max()+2000,\n",
    "                        2000))\n",
    "plt.xticks(rotation=45, fontsize=10)\n",
    "fig.savefig(\"top10_popular_variety.png\")\n",
    "plt.show()"
   ]
  },
  {
   "cell_type": "markdown",
   "id": "f8223728",
   "metadata": {},
   "source": [
    "From the histogram graph I view Pinot Noir which is type of variety and very popular in wine production worldwide. Chardonnay and Cabernet Sauvignon are popular as well.\n",
    "\n",
    "Conclusion: \n",
    "From the data analysis, I can see there are many wineries in US compare to other countries. Analysis tell me that having many wineries doesn’t mean the country produce fine wine. The average points for wines from England is the highest among of countries.\n",
    "\n",
    "I also look into popular provinces to produce wine in country. There are many grapes had been used to produce variety of wines and from the histogram I can say that Pinot Noir Chardonnay and Cabernet Sauvignon are quite popular."
   ]
  }
 ],
 "metadata": {
  "kernelspec": {
   "display_name": "Python 3 (ipykernel)",
   "language": "python",
   "name": "python3"
  },
  "language_info": {
   "codemirror_mode": {
    "name": "ipython",
    "version": 3
   },
   "file_extension": ".py",
   "mimetype": "text/x-python",
   "name": "python",
   "nbconvert_exporter": "python",
   "pygments_lexer": "ipython3",
   "version": "3.10.9"
  }
 },
 "nbformat": 4,
 "nbformat_minor": 5
}
